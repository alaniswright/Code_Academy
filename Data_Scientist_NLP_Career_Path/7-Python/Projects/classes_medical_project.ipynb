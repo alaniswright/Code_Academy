{
 "cells": [
  {
   "cell_type": "code",
   "execution_count": 44,
   "metadata": {},
   "outputs": [
    {
     "name": "stdout",
     "output_type": "stream",
     "text": [
      "John Doe\n",
      "John Doe's estimated insurance costs is 1836.0 dollars.\n",
      "25\n",
      "John Doe is now 14 years old.\n",
      "John Doe's estimated insurance costs is -914.0 dollars.\n",
      "0\n",
      "John Doe has 1 child.\n",
      "John Doe's estimated insurance costs is -489.0 dollars.\n",
      " \n",
      "Make sure you enter a number\n"
     ]
    }
   ],
   "source": [
    "class Patient:\n",
    "  def __init__(self, name, age, sex, bmi, num_of_children, smoker):\n",
    "    self.name = name\n",
    "    self.age = age\n",
    "    self.sex = sex\n",
    "    self.bmi = bmi\n",
    "    self.num_of_children = num_of_children\n",
    "    self.smoker = smoker\n",
    "\n",
    "  def estimated_insurance_cost(self):\n",
    "    self.total = 250 * self.age - 128 * self.sex + 370 * self.bmi + 425 * self.num_of_children + 24000 * self.smoker - 12500\n",
    "    print(f\"{self.name}'s estimated insurance costs is {self.total} dollars.\")\n",
    "    return self.total\n",
    "  \n",
    "  def update_age(self, new_age):\n",
    "    self.age = new_age\n",
    "    print(f\"{self.name} is now {self.age} years old.\")\n",
    "    self.estimated_insurance_cost()\n",
    "\n",
    "  def update_num_children(self, num_new_children):\n",
    "    self.num_of_children = num_new_children\n",
    "    try:\n",
    "      if self.num_of_children == 1:\n",
    "        print(f'{self.name} has {self.num_of_children} child.')\n",
    "      elif is_integar(self.num_of_children):\n",
    "        print(f'{self.name} has {self.num_of_children} children.')\n",
    "      self.estimated_insurance_cost()\n",
    "    except:\n",
    "      print(\"Make sure you enter a number\")\n",
    "  \n",
    "  def patient_profile(self):\n",
    "    self.patient_information = {}\n",
    "    self.patient_information[\"name\"] = self.name\n",
    "    self.patient_information[\"age\"] = self.age\n",
    "    self.patient_information[\"sex\"] = self.sex\n",
    "    self.patient_information[\"bmi\"] = self.bmi\n",
    "    self.patient_information[\"num_of_children\"] = self.num_of_children\n",
    "    self.patient_information[\"smoker\"] = self.smoker\n",
    "    return self.patient_information\n",
    "\n",
    "\n",
    "patient1 = Patient(\"John Doe\", 25, 1, 22.2, 0, 0)\n",
    "print(patient1.name)\n",
    "patient1.estimated_insurance_cost()\n",
    "print(patient1.age)\n",
    "patient1.update_age(14)\n",
    "print(patient1.num_of_children)\n",
    "patient1.update_num_children(1)\n",
    "patient1.patient_profile()\n",
    "print(\" \")\n",
    "patient1.update_num_children([\"3\"])\n"
   ]
  }
 ],
 "metadata": {
  "kernelspec": {
   "display_name": "base",
   "language": "python",
   "name": "python3"
  },
  "language_info": {
   "codemirror_mode": {
    "name": "ipython",
    "version": 3
   },
   "file_extension": ".py",
   "mimetype": "text/x-python",
   "name": "python",
   "nbconvert_exporter": "python",
   "pygments_lexer": "ipython3",
   "version": "3.10.9"
  },
  "orig_nbformat": 4
 },
 "nbformat": 4,
 "nbformat_minor": 2
}
