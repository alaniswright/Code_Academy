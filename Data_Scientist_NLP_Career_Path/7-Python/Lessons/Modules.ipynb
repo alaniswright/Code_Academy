{
 "cells": [
  {
   "cell_type": "code",
   "execution_count": 3,
   "metadata": {},
   "outputs": [],
   "source": [
    "# Import random below:\n",
    "import random\n",
    "\n",
    "# Create random_list below:\n",
    "random_list = []\n",
    "\n",
    "# Create randomer_number below:\n",
    "random_list = [random.randint(1, 100) for i in range(101)]\n",
    "\n",
    "# Print randomer_number below:\n",
    "randomer_number = random.choice(random_list)\n",
    "print(randomer_number)"
   ]
  },
  {
   "cell_type": "code",
   "execution_count": 11,
   "metadata": {},
   "outputs": [
    {
     "name": "stdout",
     "output_type": "stream",
     "text": [
      "0.89\n",
      "0.3445\n"
     ]
    }
   ],
   "source": [
    "# Import Decimal below:\n",
    "from decimal import Decimal\n",
    "\n",
    "# Fix the floating point math below:\n",
    "two_decimal_points = Decimal('0.2') + Decimal('0.69')\n",
    "print(two_decimal_points)\n",
    "\n",
    "four_decimal_points = Decimal('0.53') * Decimal('0.65')\n",
    "print(four_decimal_points)"
   ]
  },
  {
   "attachments": {},
   "cell_type": "markdown",
   "metadata": {},
   "source": [
    "files are actually modules, so you can give a file access to another file’s content using that glorious import statement."
   ]
  },
  {
   "cell_type": "code",
   "execution_count": null,
   "metadata": {},
   "outputs": [],
   "source": [
    "# Import library below:\n",
    "from library import always_three\n",
    "\n",
    "# Call your function below:\n",
    "always_three()"
   ]
  }
 ],
 "metadata": {
  "kernelspec": {
   "display_name": "base",
   "language": "python",
   "name": "python3"
  },
  "language_info": {
   "codemirror_mode": {
    "name": "ipython",
    "version": 3
   },
   "file_extension": ".py",
   "mimetype": "text/x-python",
   "name": "python",
   "nbconvert_exporter": "python",
   "pygments_lexer": "ipython3",
   "version": "3.10.9"
  },
  "orig_nbformat": 4
 },
 "nbformat": 4,
 "nbformat_minor": 2
}
