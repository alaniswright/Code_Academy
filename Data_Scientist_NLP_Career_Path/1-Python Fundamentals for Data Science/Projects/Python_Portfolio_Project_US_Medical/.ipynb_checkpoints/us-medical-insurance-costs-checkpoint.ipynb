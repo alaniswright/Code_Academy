{
 "cells": [
  {
   "cell_type": "markdown",
   "metadata": {},
   "source": [
    "# U.S. Medical Insurance Costs"
   ]
  },
  {
   "cell_type": "code",
   "execution_count": 10,
   "metadata": {},
   "outputs": [
    {
     "ename": "NameError",
     "evalue": "name 'avg' is not defined",
     "output_type": "error",
     "traceback": [
      "\u001b[1;31m---------------------------------------------------------------------------\u001b[0m",
      "\u001b[1;31mNameError\u001b[0m                                 Traceback (most recent call last)",
      "Input \u001b[1;32mIn [10]\u001b[0m, in \u001b[0;36m<cell line: 13>\u001b[1;34m()\u001b[0m\n\u001b[0;32m     16\u001b[0m     \u001b[38;5;28;01mif\u001b[39;00m children[child] \u001b[38;5;241m==\u001b[39m m:\n\u001b[0;32m     17\u001b[0m         temp_values\u001b[38;5;241m.\u001b[39mappend(charges[child])\n\u001b[1;32m---> 18\u001b[0m \u001b[38;5;28mprint\u001b[39m(m, \u001b[43mavg\u001b[49m(temp_values))\n",
      "\u001b[1;31mNameError\u001b[0m: name 'avg' is not defined"
     ]
    }
   ],
   "source": [
    "# Goal: understand how children affect insurance cost\n",
    "\n",
    "import csv\n",
    "\n",
    "with open('insurance.csv') as file:\n",
    "    insurance_dataset = csv.DictReader(file, delimiter=',')\n",
    "    children = []\n",
    "    charges = []\n",
    "    for row in insurance_dataset:\n",
    "        children.append(int(row['children']))\n",
    "        charges.append(float(row['charges']))\n",
    "    \n",
    "for m in range(0, max(children)):\n",
    "    temp_values = []\n",
    "    for child in range(0, len(children)):\n",
    "        if children[child] == m:\n",
    "            temp_values.append(charges[child])\n",
    "    print(m, avg(temp_values))\n",
    "\n",
    "\n",
    "\n",
    "    \n",
    "\n"
   ]
  },
  {
   "cell_type": "code",
   "execution_count": null,
   "metadata": {},
   "outputs": [],
   "source": []
  },
  {
   "cell_type": "code",
   "execution_count": null,
   "metadata": {},
   "outputs": [],
   "source": []
  },
  {
   "cell_type": "code",
   "execution_count": null,
   "metadata": {},
   "outputs": [],
   "source": []
  }
 ],
 "metadata": {
  "kernelspec": {
   "display_name": "Python 3 (ipykernel)",
   "language": "python",
   "name": "python3"
  },
  "language_info": {
   "codemirror_mode": {
    "name": "ipython",
    "version": 3
   },
   "file_extension": ".py",
   "mimetype": "text/x-python",
   "name": "python",
   "nbconvert_exporter": "python",
   "pygments_lexer": "ipython3",
   "version": "3.9.12"
  }
 },
 "nbformat": 4,
 "nbformat_minor": 4
}
