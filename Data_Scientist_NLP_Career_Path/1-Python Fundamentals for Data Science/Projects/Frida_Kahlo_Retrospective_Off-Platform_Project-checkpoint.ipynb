{
 "cells": [
  {
   "cell_type": "code",
   "execution_count": 1,
   "id": "f8e1efa5",
   "metadata": {},
   "outputs": [],
   "source": [
    "paintings = ['The Two Fridas', 'My Dress Hangs Here', 'Tree of Hope', 'Self Portrait With Monkeys']"
   ]
  },
  {
   "cell_type": "code",
   "execution_count": 2,
   "id": "1059d0a1",
   "metadata": {},
   "outputs": [],
   "source": [
    "dates = [1939, 1933, 1946, 1940]"
   ]
  },
  {
   "cell_type": "code",
   "execution_count": 3,
   "id": "b3a596a0",
   "metadata": {},
   "outputs": [],
   "source": [
    "paintings = list(zip(paintings, dates))"
   ]
  },
  {
   "cell_type": "code",
   "execution_count": 4,
   "id": "d56da06a",
   "metadata": {},
   "outputs": [
    {
     "name": "stdout",
     "output_type": "stream",
     "text": [
      "[('The Two Fridas', 1939), ('My Dress Hangs Here', 1933), ('Tree of Hope', 1946), ('Self Portrait With Monkeys', 1940), ['The Broken Column', 1944], ['The Wounded Deer', 1946], ['Me and My Doll', 1937]]\n"
     ]
    }
   ],
   "source": [
    "paintings.append(['The Broken Column', 1944])\n",
    "paintings.append(['The Wounded Deer', 1946])\n",
    "paintings.append(['Me and My Doll', 1937])\n",
    "print(paintings)"
   ]
  },
  {
   "cell_type": "code",
   "execution_count": 5,
   "id": "9dfe74de",
   "metadata": {},
   "outputs": [
    {
     "name": "stdout",
     "output_type": "stream",
     "text": [
      "[0, 1, 2, 3, 4, 5, 6, 7]\n"
     ]
    }
   ],
   "source": [
    "length = len(paintings)\n",
    "audio_tour_number = list(range(length + 1))\n",
    "print(audio_tour_number)"
   ]
  },
  {
   "cell_type": "code",
   "execution_count": 6,
   "id": "cc321408",
   "metadata": {},
   "outputs": [
    {
     "name": "stdout",
     "output_type": "stream",
     "text": [
      "[(('The Two Fridas', 1939), 0), (('My Dress Hangs Here', 1933), 1), (('Tree of Hope', 1946), 2), (('Self Portrait With Monkeys', 1940), 3), (['The Broken Column', 1944], 4), (['The Wounded Deer', 1946], 5), (['Me and My Doll', 1937], 6)]\n"
     ]
    }
   ],
   "source": [
    "master_list = list(zip(paintings, audio_tour_number))\n",
    "print(master_list)\n"
   ]
  }
 ],
 "metadata": {
  "kernelspec": {
   "display_name": "Python 3 (ipykernel)",
   "language": "python",
   "name": "python3"
  },
  "language_info": {
   "codemirror_mode": {
    "name": "ipython",
    "version": 3
   },
   "file_extension": ".py",
   "mimetype": "text/x-python",
   "name": "python",
   "nbconvert_exporter": "python",
   "pygments_lexer": "ipython3",
   "version": "3.9.12"
  }
 },
 "nbformat": 4,
 "nbformat_minor": 5
}
