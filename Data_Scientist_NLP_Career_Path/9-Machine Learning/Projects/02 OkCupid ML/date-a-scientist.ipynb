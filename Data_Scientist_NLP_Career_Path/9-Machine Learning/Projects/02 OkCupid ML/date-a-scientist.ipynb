{
 "cells": [
  {
   "cell_type": "code",
   "execution_count": 120,
   "metadata": {},
   "outputs": [],
   "source": [
    "import pandas as pd\n",
    "import numpy as np\n",
    "\n",
    "profiles = pd.read_csv('profiles.csv')"
   ]
  },
  {
   "cell_type": "markdown",
   "metadata": {},
   "source": [
    "## Investigate data"
   ]
  },
  {
   "cell_type": "code",
   "execution_count": 121,
   "metadata": {},
   "outputs": [
    {
     "name": "stdout",
     "output_type": "stream",
     "text": [
      "Index(['age', 'body_type', 'diet', 'drinks', 'drugs', 'education', 'essay0',\n",
      "       'essay1', 'essay2', 'essay3', 'essay4', 'essay5', 'essay6', 'essay7',\n",
      "       'essay8', 'essay9', 'ethnicity', 'height', 'income', 'job',\n",
      "       'last_online', 'location', 'offspring', 'orientation', 'pets',\n",
      "       'religion', 'sex', 'sign', 'smokes', 'speaks', 'status'],\n",
      "      dtype='object')\n",
      "<class 'pandas.core.frame.DataFrame'>\n",
      "RangeIndex: 59946 entries, 0 to 59945\n",
      "Data columns (total 31 columns):\n",
      " #   Column       Non-Null Count  Dtype  \n",
      "---  ------       --------------  -----  \n",
      " 0   age          59946 non-null  int64  \n",
      " 1   body_type    54650 non-null  object \n",
      " 2   diet         35551 non-null  object \n",
      " 3   drinks       56961 non-null  object \n",
      " 4   drugs        45866 non-null  object \n",
      " 5   education    53318 non-null  object \n",
      " 6   essay0       54458 non-null  object \n",
      " 7   essay1       52374 non-null  object \n",
      " 8   essay2       50308 non-null  object \n",
      " 9   essay3       48470 non-null  object \n",
      " 10  essay4       49409 non-null  object \n",
      " 11  essay5       49096 non-null  object \n",
      " 12  essay6       46175 non-null  object \n",
      " 13  essay7       47495 non-null  object \n",
      " 14  essay8       40721 non-null  object \n",
      " 15  essay9       47343 non-null  object \n",
      " 16  ethnicity    54266 non-null  object \n",
      " 17  height       59943 non-null  float64\n",
      " 18  income       59946 non-null  int64  \n",
      " 19  job          51748 non-null  object \n",
      " 20  last_online  59946 non-null  object \n",
      " 21  location     59946 non-null  object \n",
      " 22  offspring    24385 non-null  object \n",
      " 23  orientation  59946 non-null  object \n",
      " 24  pets         40025 non-null  object \n",
      " 25  religion     39720 non-null  object \n",
      " 26  sex          59946 non-null  object \n",
      " 27  sign         48890 non-null  object \n",
      " 28  smokes       54434 non-null  object \n",
      " 29  speaks       59896 non-null  object \n",
      " 30  status       59946 non-null  object \n",
      "dtypes: float64(1), int64(2), object(28)\n",
      "memory usage: 14.2+ MB\n",
      "None\n",
      "                age        height          income\n",
      "count  59946.000000  59943.000000    59946.000000\n",
      "mean      32.340290     68.295281    20033.222534\n",
      "std        9.452779      3.994803    97346.192104\n",
      "min       18.000000      1.000000       -1.000000\n",
      "25%       26.000000     66.000000       -1.000000\n",
      "50%       30.000000     68.000000       -1.000000\n",
      "75%       37.000000     71.000000       -1.000000\n",
      "max      110.000000     95.000000  1000000.000000\n",
      "   age       body_type               diet    drinks      drugs  \\\n",
      "0   22  a little extra  strictly anything  socially      never   \n",
      "1   35         average       mostly other     often  sometimes   \n",
      "2   38            thin           anything  socially        NaN   \n",
      "3   23            thin         vegetarian  socially        NaN   \n",
      "4   29        athletic                NaN  socially      never   \n",
      "\n",
      "                           education  \\\n",
      "0      working on college/university   \n",
      "1              working on space camp   \n",
      "2     graduated from masters program   \n",
      "3      working on college/university   \n",
      "4  graduated from college/university   \n",
      "\n",
      "                                              essay0  \\\n",
      "0  about me:<br />\\n<br />\\ni would love to think...   \n",
      "1  i am a chef: this is what that means.<br />\\n1...   \n",
      "2  i'm not ashamed of much, but writing public te...   \n",
      "3          i work in a library and go to school. . .   \n",
      "4  hey how's it going? currently vague on the pro...   \n",
      "\n",
      "                                              essay1  \\\n",
      "0  currently working as an international agent fo...   \n",
      "1  dedicating everyday to being an unbelievable b...   \n",
      "2  i make nerdy software for musicians, artists, ...   \n",
      "3          reading things written by old dead people   \n",
      "4                         work work work work + play   \n",
      "\n",
      "                                              essay2  \\\n",
      "0  making people laugh.<br />\\nranting about a go...   \n",
      "1  being silly. having ridiculous amonts of fun w...   \n",
      "2  improvising in different contexts. alternating...   \n",
      "3  playing synthesizers and organizing books acco...   \n",
      "4  creating imagery to look at:<br />\\nhttp://bag...   \n",
      "\n",
      "                                              essay3  ...  \\\n",
      "0  the way i look. i am a six foot half asian, ha...  ...   \n",
      "1                                                NaN  ...   \n",
      "2  my large jaw and large glasses are the physica...  ...   \n",
      "3                  socially awkward but i do my best  ...   \n",
      "4            i smile a lot and my inquisitive nature  ...   \n",
      "\n",
      "                          location  \\\n",
      "0  south san francisco, california   \n",
      "1              oakland, california   \n",
      "2        san francisco, california   \n",
      "3             berkeley, california   \n",
      "4        san francisco, california   \n",
      "\n",
      "                                      offspring orientation  \\\n",
      "0  doesn&rsquo;t have kids, but might want them    straight   \n",
      "1  doesn&rsquo;t have kids, but might want them    straight   \n",
      "2                                           NaN    straight   \n",
      "3                       doesn&rsquo;t want kids    straight   \n",
      "4                                           NaN    straight   \n",
      "\n",
      "                        pets                                  religion sex  \\\n",
      "0  likes dogs and likes cats     agnosticism and very serious about it   m   \n",
      "1  likes dogs and likes cats  agnosticism but not too serious about it   m   \n",
      "2                   has cats                                       NaN   m   \n",
      "3                 likes cats                                       NaN   m   \n",
      "4  likes dogs and likes cats                                       NaN   m   \n",
      "\n",
      "                                 sign     smokes  \\\n",
      "0                              gemini  sometimes   \n",
      "1                              cancer         no   \n",
      "2  pisces but it doesn&rsquo;t matter         no   \n",
      "3                              pisces         no   \n",
      "4                            aquarius         no   \n",
      "\n",
      "                                              speaks     status  \n",
      "0                                            english     single  \n",
      "1  english (fluently), spanish (poorly), french (...     single  \n",
      "2                               english, french, c++  available  \n",
      "3                           english, german (poorly)     single  \n",
      "4                                            english     single  \n",
      "\n",
      "[5 rows x 31 columns]\n"
     ]
    }
   ],
   "source": [
    "print(profiles.columns)\n",
    "print(profiles.info())\n",
    "print(profiles.describe())\n",
    "print(profiles.head())\n"
   ]
  },
  {
   "cell_type": "markdown",
   "metadata": {},
   "source": [
    "## Prepare data\n",
    "\n",
    "### Clean starsign field"
   ]
  },
  {
   "cell_type": "code",
   "execution_count": 122,
   "metadata": {},
   "outputs": [],
   "source": [
    "profiles['signs_one_word'] = profiles['sign'].str.split().str.get(0)"
   ]
  },
  {
   "cell_type": "markdown",
   "metadata": {},
   "source": [
    "### "
   ]
  },
  {
   "cell_type": "markdown",
   "metadata": {},
   "source": [
    "### Convert ordered categorical fields into numbers (low number = lower score)"
   ]
  },
  {
   "cell_type": "code",
   "execution_count": 123,
   "metadata": {},
   "outputs": [],
   "source": [
    "body_type_map = {\"rather not say\": 0, \"skinnny\": 1, \"thin\":2, \"athletic\":3, \"fit\":4, \"average\": 5, \"jacked\": 6, \"full figured\": 7, \"curvy\":8, \"a little extra\": 9, \"overweight\": 10, \"used up\": 11}\n",
    "profiles[\"body_type_code\"] = profiles.body_type.map(body_type_map)\n",
    "\n",
    "drinks_map = {\"rather not say\": 0, \"not at all\": 1, \"rarely\": 2, \"socially\": 3, \"often\": 4, \"very often\": 5, \"desperately\": 6}\n",
    "profiles[\"drinks_code\"] = profiles.drinks.map(drinks_map)\n",
    "\n",
    "smokes_map = {\"rather not say\": 0, \"no\": 1, \"sometimes\": 2, \"when drinking\": 3, \"trying to quit\": 4, \"yes\": 5}\n",
    "profiles[\"smokes_code\"] = profiles.smokes.map(smokes_map)\n",
    "\n",
    "drugs_map = {\"rather not say\": 0, \"never\": 1, \"sometimes\": 0, \"often\": 0}\n",
    "profiles[\"drugs_code\"] = profiles.drugs.map(drugs_map)\n",
    "\n",
    "sex_map = {\"rather not say\": 0, \"m\": 1, \"f\": 2}\n",
    "profiles[\"sex_code\"] = profiles.sex.map(sex_map)\n",
    "\n",
    "status_map = {\"rather not say\": 0, \"single\": 1, \"seeing someone\": 2, \"available\": 1, \"married\": 2, \"unkown\": 0}\n",
    "profiles[\"status_code\"] = profiles.status.map(status_map)\n",
    "\n"
   ]
  },
  {
   "cell_type": "markdown",
   "metadata": {},
   "source": [
    "### Replace null values"
   ]
  },
  {
   "cell_type": "code",
   "execution_count": 124,
   "metadata": {},
   "outputs": [
    {
     "data": {
      "text/plain": [
       "age               False\n",
       "body_type         False\n",
       "diet              False\n",
       "drinks            False\n",
       "drugs             False\n",
       "education         False\n",
       "essay0             True\n",
       "essay1             True\n",
       "essay2             True\n",
       "essay3             True\n",
       "essay4             True\n",
       "essay5             True\n",
       "essay6             True\n",
       "essay7             True\n",
       "essay8             True\n",
       "essay9             True\n",
       "ethnicity         False\n",
       "height            False\n",
       "income            False\n",
       "job               False\n",
       "last_online       False\n",
       "location          False\n",
       "offspring         False\n",
       "orientation       False\n",
       "pets              False\n",
       "religion          False\n",
       "sex               False\n",
       "sign              False\n",
       "smokes            False\n",
       "speaks            False\n",
       "status            False\n",
       "signs_one_word     True\n",
       "body_type_code    False\n",
       "drinks_code       False\n",
       "smokes_code       False\n",
       "drugs_code        False\n",
       "sex_code          False\n",
       "status_code       False\n",
       "dtype: bool"
      ]
     },
     "execution_count": 124,
     "metadata": {},
     "output_type": "execute_result"
    }
   ],
   "source": [
    "\n",
    "profiles.fillna({'body_type':0,\n",
    "           'diet':0,\n",
    "           'drinks':0,\n",
    "           'drugs':0,\n",
    "           'education':0,\n",
    "           'ethnicity':0,\n",
    "           'height':0,\n",
    "           'job':0,\n",
    "           'offspring':0,\n",
    "           'pets':0,\n",
    "           'religion':0,\n",
    "           'sign':0,\n",
    "           'smokes':0,\n",
    "           'smokes_code':0,\n",
    "           'drugs_code':0,\n",
    "           'body_type_code':0,\n",
    "           'drinks_code':0,\n",
    "           'status_code':0,\n",
    "           'speaks':\"\"}, inplace = True)\n",
    "\n",
    "# Check if there are still any null values\n",
    "profiles.isna().any()"
   ]
  },
  {
   "cell_type": "markdown",
   "metadata": {},
   "source": [
    "## Predict relationship between all variables and drug use\n",
    "\n",
    "Smoking and drinking influence drug use more than other variables.\n",
    "\n",
    "Sex, age and status have no impact"
   ]
  },
  {
   "cell_type": "code",
   "execution_count": 125,
   "metadata": {},
   "outputs": [
    {
     "name": "stdout",
     "output_type": "stream",
     "text": [
      "Score for smokes_code: 0.6346955796497081\n",
      "Score for drinks_code: 0.6271893244370309\n",
      "Score for body_type_code: 0.6226021684737281\n",
      "Score for status_code: 0.6226021684737281\n"
     ]
    },
    {
     "name": "stdout",
     "output_type": "stream",
     "text": [
      "Score for height: 0.6230191826522101\n",
      "Score for sex_code: 0.6226021684737281\n",
      "Score for height: 0.6230191826522101\n",
      "Score for age: 0.6226021684737281\n"
     ]
    }
   ],
   "source": [
    "from sklearn.linear_model import LogisticRegression\n",
    "from sklearn.model_selection import train_test_split\n",
    "\n",
    "\n",
    "variables = ['smokes_code', 'drinks_code', 'body_type_code', 'status_code', 'height', 'sex_code', 'height', 'age']\n",
    "for var in variables:\n",
    "    X = profiles[[var]]\n",
    "    y = profiles['drugs_code']\n",
    "\n",
    "    X_train, X_test, y_train, y_test = train_test_split(X, y, test_size=0.2, random_state=42)\n",
    "\n",
    "    model = LogisticRegression()\n",
    "    model.fit(X_train, y_train)\n",
    "\n",
    "    print(f\"Score for {var}:\", model.score(X_test, y_test))\n",
    "\n",
    "\n",
    "\n",
    "\n",
    "\n",
    "\n"
   ]
  }
 ],
 "metadata": {
  "kernelspec": {
   "display_name": "Python 3",
   "language": "python",
   "name": "python3"
  },
  "language_info": {
   "codemirror_mode": {
    "name": "ipython",
    "version": 3
   },
   "file_extension": ".py",
   "mimetype": "text/x-python",
   "name": "python",
   "nbconvert_exporter": "python",
   "pygments_lexer": "ipython3",
   "version": "3.11.7"
  }
 },
 "nbformat": 4,
 "nbformat_minor": 4
}
