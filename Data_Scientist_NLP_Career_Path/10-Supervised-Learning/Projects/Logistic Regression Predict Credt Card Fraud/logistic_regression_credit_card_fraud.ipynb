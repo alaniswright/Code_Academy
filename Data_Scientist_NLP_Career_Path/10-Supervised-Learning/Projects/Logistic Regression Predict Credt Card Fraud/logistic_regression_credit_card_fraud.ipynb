{
 "cells": [
  {
   "cell_type": "code",
   "execution_count": 1,
   "metadata": {},
   "outputs": [
    {
     "name": "stdout",
     "output_type": "stream",
     "text": [
      "   step      type      amount     nameOrig  oldbalanceOrg  newbalanceOrig  \\\n",
      "0   206  CASH_OUT    62927.08   C473782114           0.00            0.00   \n",
      "1   380   PAYMENT    32851.57  C1915112886           0.00            0.00   \n",
      "2   570  CASH_OUT  1131750.38  C1396198422     1131750.38            0.00   \n",
      "3   184  CASH_OUT    60519.74   C982551468       60519.74            0.00   \n",
      "4   162   CASH_IN    46716.01  C1759889425     7668050.60      7714766.61   \n",
      "\n",
      "      nameDest  oldbalanceDest  newbalanceDest  isFraud  isPayment  \\\n",
      "0  C2096898696       649420.67       712347.75        0          0   \n",
      "1   M916879292            0.00            0.00        0          1   \n",
      "2  C1612235515       313070.53      1444820.92        1          0   \n",
      "3  C1378644910        54295.32       182654.50        1          0   \n",
      "4  C2059152908      2125468.75      2078752.75        0          0   \n",
      "\n",
      "   isMovement  accountDiff  \n",
      "0           1    649420.67  \n",
      "1           0         0.00  \n",
      "2           1    818679.85  \n",
      "3           1      6224.42  \n",
      "4           0   5542581.85  \n"
     ]
    }
   ],
   "source": [
    "import seaborn\n",
    "import pandas as pd\n",
    "import numpy as np\n",
    "import matplotlib.pyplot as plt\n",
    "from sklearn.linear_model import LogisticRegression\n",
    "from sklearn.model_selection import train_test_split\n",
    "from sklearn.preprocessing import StandardScaler\n",
    "\n",
    "# Load the data\n",
    "transactions = pd.read_csv('transactions_modified.csv')\n",
    "print(transactions.head())"
   ]
  },
  {
   "cell_type": "code",
   "execution_count": 5,
   "metadata": {},
   "outputs": [
    {
     "name": "stdout",
     "output_type": "stream",
     "text": [
      "<class 'pandas.core.frame.DataFrame'>\n",
      "RangeIndex: 1000 entries, 0 to 999\n",
      "Data columns (total 13 columns):\n",
      " #   Column          Non-Null Count  Dtype  \n",
      "---  ------          --------------  -----  \n",
      " 0   step            1000 non-null   int64  \n",
      " 1   type            1000 non-null   object \n",
      " 2   amount          1000 non-null   float64\n",
      " 3   nameOrig        1000 non-null   object \n",
      " 4   oldbalanceOrg   1000 non-null   float64\n",
      " 5   newbalanceOrig  1000 non-null   float64\n",
      " 6   nameDest        1000 non-null   object \n",
      " 7   oldbalanceDest  1000 non-null   float64\n",
      " 8   newbalanceDest  1000 non-null   float64\n",
      " 9   isFraud         1000 non-null   int64  \n",
      " 10  isPayment       1000 non-null   int64  \n",
      " 11  isMovement      1000 non-null   int64  \n",
      " 12  accountDiff     1000 non-null   float64\n",
      "dtypes: float64(6), int64(4), object(3)\n",
      "memory usage: 101.7+ KB\n",
      "None\n"
     ]
    }
   ],
   "source": [
    "print(transactions.info())"
   ]
  },
  {
   "cell_type": "code",
   "execution_count": 6,
   "metadata": {},
   "outputs": [
    {
     "name": "stdout",
     "output_type": "stream",
     "text": [
      "              step        amount  oldbalanceOrg  newbalanceOrig  \\\n",
      "count  1000.000000  1.000000e+03   1.000000e+03    1.000000e+03   \n",
      "mean    280.664000  5.373080e+05   1.049284e+06    6.376146e+05   \n",
      "std     167.174593  1.423692e+06   3.226500e+06    2.717351e+06   \n",
      "min       1.000000  0.000000e+00   0.000000e+00    0.000000e+00   \n",
      "25%     164.000000  2.933705e+04   1.287500e+02    0.000000e+00   \n",
      "50%     261.000000  1.265305e+05   4.371400e+04    0.000000e+00   \n",
      "75%     373.250000  3.010378e+05   4.080914e+05    3.795663e+04   \n",
      "max     741.000000  1.000000e+07   5.039905e+07    4.039905e+07   \n",
      "\n",
      "       oldbalanceDest  newbalanceDest      isFraud    isPayment   isMovement  \\\n",
      "count    1.000000e+03    1.000000e+03  1000.000000  1000.000000  1000.000000   \n",
      "mean     1.028848e+06    1.302326e+06     0.282000     0.220000     0.605000   \n",
      "std      2.678541e+06    3.038042e+06     0.450198     0.414454     0.489095   \n",
      "min      0.000000e+00    0.000000e+00     0.000000     0.000000     0.000000   \n",
      "25%      0.000000e+00    0.000000e+00     0.000000     0.000000     0.000000   \n",
      "50%      3.881927e+04    1.956572e+05     0.000000     0.000000     1.000000   \n",
      "75%      7.747167e+05    1.185959e+06     1.000000     0.000000     1.000000   \n",
      "max      3.085651e+07    3.183962e+07     1.000000     1.000000     1.000000   \n",
      "\n",
      "        accountDiff  \n",
      "count  1.000000e+03  \n",
      "mean   1.744828e+06  \n",
      "std    3.792962e+06  \n",
      "min    0.000000e+00  \n",
      "25%    4.273675e+04  \n",
      "50%    3.383816e+05  \n",
      "75%    1.759913e+06  \n",
      "max    5.039905e+07  \n"
     ]
    }
   ],
   "source": [
    "print(transactions.describe())"
   ]
  },
  {
   "cell_type": "code",
   "execution_count": 7,
   "metadata": {},
   "outputs": [
    {
     "name": "stdout",
     "output_type": "stream",
     "text": [
      "282\n"
     ]
    }
   ],
   "source": [
    "# How many fraudulent transactions?\n",
    "display(np.sum(transactions.isFraud))"
   ]
  },
  {
   "cell_type": "code",
   "execution_count": 10,
   "metadata": {},
   "outputs": [
    {
     "data": {
      "text/plain": [
       "count    1.000000e+03\n",
       "mean     5.373080e+05\n",
       "std      1.423692e+06\n",
       "min      0.000000e+00\n",
       "25%      2.933705e+04\n",
       "50%      1.265305e+05\n",
       "75%      3.010378e+05\n",
       "max      1.000000e+07\n",
       "Name: amount, dtype: float64"
      ]
     },
     "metadata": {},
     "output_type": "display_data"
    },
    {
     "data": {
      "text/plain": [
       "type\n",
       "CASH_OUT    400\n",
       "PAYMENT     214\n",
       "TRANSFER    205\n",
       "CASH_IN     175\n",
       "DEBIT         6\n",
       "Name: count, dtype: int64"
      ]
     },
     "metadata": {},
     "output_type": "display_data"
    }
   ],
   "source": [
    "# Summary statistics on amount column\n",
    "display(transactions.amount.describe())"
   ]
  },
  {
   "cell_type": "code",
   "execution_count": 11,
   "metadata": {},
   "outputs": [
    {
     "data": {
      "text/plain": [
       "type\n",
       "CASH_OUT    400\n",
       "PAYMENT     214\n",
       "TRANSFER    205\n",
       "CASH_IN     175\n",
       "DEBIT         6\n",
       "Name: count, dtype: int64"
      ]
     },
     "metadata": {},
     "output_type": "display_data"
    },
    {
     "data": {
      "text/plain": [
       "isPayment\n",
       "0    780\n",
       "1    220\n",
       "Name: count, dtype: int64"
      ]
     },
     "metadata": {},
     "output_type": "display_data"
    }
   ],
   "source": [
    "# Create isPayment field\n",
    "display(transactions.type.value_counts())\n",
    "transactions['isPayment'] = transactions['type'].apply(lambda x: 1 if x in ['PAYMENT', 'DEBIT'] else 0)\n",
    "display(transactions.isPayment.value_counts())"
   ]
  },
  {
   "cell_type": "code",
   "execution_count": 12,
   "metadata": {},
   "outputs": [
    {
     "data": {
      "text/plain": [
       "isMovement\n",
       "1    605\n",
       "0    395\n",
       "Name: count, dtype: int64"
      ]
     },
     "metadata": {},
     "output_type": "display_data"
    }
   ],
   "source": [
    "# Create isMovement field\n",
    "transactions['isMovement'] = transactions['type'].apply(lambda x: 1 if x in ['CASH_OUT', 'TRANSFER'] else 0)\n",
    "display(transactions.isMovement.value_counts())"
   ]
  },
  {
   "cell_type": "code",
   "execution_count": 17,
   "metadata": {},
   "outputs": [
    {
     "data": {
      "text/plain": [
       "818679.8499999999"
      ]
     },
     "metadata": {},
     "output_type": "display_data"
    },
    {
     "data": {
      "text/plain": [
       "1131750.38"
      ]
     },
     "metadata": {},
     "output_type": "display_data"
    },
    {
     "data": {
      "text/plain": [
       "313070.53"
      ]
     },
     "metadata": {},
     "output_type": "display_data"
    }
   ],
   "source": [
    "# Create accountDiff field\n",
    "transactions['accountDiff'] = transactions['oldbalanceOrg'] - transactions['oldbalanceDest']\n",
    "\n",
    "# Code to test that accounttDiff worked correctly\n",
    "test_list = ['accountDiff', 'oldbalanceOrg', 'oldbalanceDest']\n",
    "\n",
    "for item in test_list:\n",
    "    display(transactions[item][2])\n",
    "\n"
   ]
  },
  {
   "cell_type": "code",
   "execution_count": 18,
   "metadata": {},
   "outputs": [],
   "source": [
    "# Create features and label variables\n",
    "features = transactions[['amount', 'isPayment', 'isMovement', 'accountDiff']]\n",
    "\n",
    "label = transactions['isFraud']"
   ]
  },
  {
   "cell_type": "code",
   "execution_count": 23,
   "metadata": {},
   "outputs": [
    {
     "data": {
      "text/plain": [
       "0.8414285714285714"
      ]
     },
     "metadata": {},
     "output_type": "display_data"
    },
    {
     "data": {
      "text/plain": [
       "0.8733333333333333"
      ]
     },
     "metadata": {},
     "output_type": "display_data"
    },
    {
     "data": {
      "text/plain": [
       "array([[ 1.91570153, -0.26730454,  2.90621003,  1.03281935]])"
      ]
     },
     "metadata": {},
     "output_type": "display_data"
    }
   ],
   "source": [
    "# Split dataset\n",
    "X_train, X_test, y_train, y_test = train_test_split(features, label, test_size=0.3)\n",
    "\n",
    "# Normalize the features variables\n",
    "scaler = StandardScaler()\n",
    "X_train = scaler.fit_transform(X_train)\n",
    "X_test = scaler.transform(X_test)\n",
    "\n",
    "# Fit the model to the training data\n",
    "model = LogisticRegression()\n",
    "model.fit(X_train, y_train)\n",
    "\n",
    "# Score the model on the training data\n",
    "display(model.score(X_train, y_train))\n",
    "\n",
    "# Score the model on the test data\n",
    "display(model.score(X_test, y_test))\n",
    "\n",
    "# Print the model coefficients\n",
    "display(model.coef_)"
   ]
  },
  {
   "cell_type": "code",
   "execution_count": 28,
   "metadata": {},
   "outputs": [
    {
     "data": {
      "text/plain": [
       "array([[1.2345678e+05, 0.0000000e+00, 1.0000000e+00, 5.4670100e+04],\n",
       "       [9.8765430e+04, 1.0000000e+00, 0.0000000e+00, 8.5247500e+03],\n",
       "       [5.4367831e+05, 1.0000000e+00, 0.0000000e+00, 5.1002550e+05],\n",
       "       [1.4585240e+04, 1.0000000e+00, 1.0000000e+00, 7.6854750e+05]])"
      ]
     },
     "metadata": {},
     "output_type": "display_data"
    },
    {
     "name": "stderr",
     "output_type": "stream",
     "text": [
      "c:\\Users\\alan_\\AppData\\Local\\Programs\\Python\\Python312\\Lib\\site-packages\\sklearn\\base.py:465: UserWarning: X does not have valid feature names, but StandardScaler was fitted with feature names\n",
      "  warnings.warn(\n"
     ]
    },
    {
     "data": {
      "text/plain": [
       "array([0, 0, 0, 0], dtype=int64)"
      ]
     },
     "metadata": {},
     "output_type": "display_data"
    },
    {
     "data": {
      "text/plain": [
       "array([[6.09140310e-01, 3.90859690e-01],\n",
       "       [9.99177941e-01, 8.22059040e-04],\n",
       "       [9.98277865e-01, 1.72213474e-03],\n",
       "       [7.46698024e-01, 2.53301976e-01]])"
      ]
     },
     "metadata": {},
     "output_type": "display_data"
    }
   ],
   "source": [
    "# New transaction data\n",
    "transaction1 = np.array([123456.78, 0.0, 1.0, 54670.1])\n",
    "transaction2 = np.array([98765.43, 1.0, 0.0, 8524.75])\n",
    "transaction3 = np.array([543678.31, 1.0, 0.0, 510025.5])\n",
    "\n",
    "# Create a new transaction\n",
    "your_transaction = np.array([14585.24, 1.0, 1.0, 768547.5])\n",
    "\n",
    "# Combine new transactions into a single array\n",
    "sample_transactions = np.array([transaction1, transaction2, transaction3, your_transaction])\n",
    "display(sample_transactions)\n",
    "\n",
    "# Normalize the new transactions\n",
    "sample_transactions = scaler.transform(sample_transactions)\n",
    "\n",
    "# Predict fraud on the new transactions\n",
    "display(model.predict(sample_transactions))\n",
    "\n",
    "# Show probabilities on the new transactions\n",
    "display(model.predict_proba(sample_transactions))"
   ]
  },
  {
   "cell_type": "code",
   "execution_count": 33,
   "metadata": {},
   "outputs": [
    {
     "data": {
      "text/plain": [
       "51"
      ]
     },
     "metadata": {},
     "output_type": "display_data"
    },
    {
     "data": {
      "text/plain": [
       "112"
      ]
     },
     "metadata": {},
     "output_type": "display_data"
    }
   ],
   "source": [
    "display(np.sum(model.predict(X_test)))\n",
    "display(np.sum(model.predict(X_train)))"
   ]
  }
 ],
 "metadata": {
  "kernelspec": {
   "display_name": "Python 3",
   "language": "python",
   "name": "python3"
  },
  "language_info": {
   "codemirror_mode": {
    "name": "ipython",
    "version": 3
   },
   "file_extension": ".py",
   "mimetype": "text/x-python",
   "name": "python",
   "nbconvert_exporter": "python",
   "pygments_lexer": "ipython3",
   "version": "3.12.0"
  }
 },
 "nbformat": 4,
 "nbformat_minor": 2
}
