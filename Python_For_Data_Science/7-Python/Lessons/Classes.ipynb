{
 "cells": [
  {
   "attachments": {},
   "cell_type": "markdown",
   "metadata": {},
   "source": [
    "type(5) = <class 'int'>\n",
    "type([1, 2, 3]) = <class 'list'>\n",
    "A list is an object of class 'list'\n",
    "\n",
    "\n",
    "#### Class\n",
    "Template for a data type. It describes the kinds of information that class will hold and how a programmer will interact with that data\n",
    "\n",
    "#### Objects\n",
    "Instance of a class is known as an object.\n",
    "\n",
    "#### Object Orientated Programming\n",
    "Pattern of defining classes and creating objects to represent responsibilities of a program\n",
    "\n",
    "#### Instantiation\n",
    "When we instantiate a class, we create as object of that class\n",
    "- Theon = Cat() returns instance of class cat. An object called Theon\n",
    "- type(Theon) returns the class of the object Theon: Cat\n",
    "\n",
    "### Class variables\n",
    "Data available to every instance of a class\n",
    "\n",
    "### Methods\n",
    "Functions defined as part of a class\n",
    "First argument in method is always the object that is calling the method (self)\n",
    "Access class variables via self.variable\n",
    "\n",
    "### Parameters / Argument\n",
    "A parameter is the variable listed inside the parentheses in the function definition. \n",
    "An argument is the value that are sent to the function when it is called."
   ]
  },
  {
   "cell_type": "code",
   "execution_count": 1,
   "metadata": {},
   "outputs": [],
   "source": [
    "class Circle:\n",
    "  pi = 3.14\n",
    "\n",
    "  def area(self, radius):\n",
    "    return self.pi * radius ** 2\n",
    "\n",
    "circle = Circle()\n",
    "pizza_area = circle.area(12 / 2)\n",
    "teaching_table_area = circle.area(36 / 2)\n",
    "round_room_area = circle.area(11460 / 2)"
   ]
  },
  {
   "attachments": {},
   "cell_type": "markdown",
   "metadata": {},
   "source": [
    "### Constructors\n",
    "Methods used to prepare an object being instantiated. Usually means \\___init__.  It's called every time a class is created"
   ]
  },
  {
   "cell_type": "code",
   "execution_count": 2,
   "metadata": {},
   "outputs": [
    {
     "name": "stdout",
     "output_type": "stream",
     "text": [
      "New circle with diameter: 36\n"
     ]
    }
   ],
   "source": [
    "class Circle:\n",
    "  pi = 3.14\n",
    "  \n",
    "  def __init__(self, diameter):\n",
    "    print(f'New circle with diameter: {diameter}')\n",
    "    pass\n",
    "  \n",
    "teaching_table = Circle(36)"
   ]
  },
  {
   "attachments": {},
   "cell_type": "markdown",
   "metadata": {},
   "source": [
    "### Instance variable\n",
    "Data held by an object. Not consistent across classes"
   ]
  },
  {
   "cell_type": "code",
   "execution_count": 3,
   "metadata": {},
   "outputs": [],
   "source": [
    "class Store:\n",
    "  pass\n",
    "\n",
    "alternative_rocks = Store()\n",
    "isabelles_ices = Store()\n",
    "\n",
    "alternative_rocks.store_name = \"Alternative Rocks\"\n",
    "isabelles_ices.store_name = \"Isabelle's Ices\""
   ]
  },
  {
   "attachments": {},
   "cell_type": "markdown",
   "metadata": {},
   "source": [
    "### Check if an attribute has a function\n",
    "\n"
   ]
  },
  {
   "cell_type": "code",
   "execution_count": 4,
   "metadata": {},
   "outputs": [
    {
     "name": "stdout",
     "output_type": "stream",
     "text": [
      "<class 'dict'> has the count attribute!\n",
      "<class 'str'> has the count attribute!\n",
      "<class 'int'> has the count attribute!\n",
      "<class 'list'> has the count attribute!\n"
     ]
    }
   ],
   "source": [
    "can_we_count_it = [{'s': False}, \"sassafrass\", 18, [\"a\", \"c\", \"s\", \"d\", \"s\"]]\n",
    "\n",
    "for element in can_we_count_it:\n",
    "  if hasattr(can_we_count_it, \"count\"):\n",
    "    print(str(type(element)) + \" has the count attribute!\")"
   ]
  },
  {
   "attachments": {},
   "cell_type": "markdown",
   "metadata": {},
   "source": [
    "### Self\n",
    "\n",
    "Since we can already use dictionaries to store key-value pairs, using objects for that purpose is not really useful. Instance variables are more powerful when you can guarantee a rigidity to the data the object is holding.\n",
    "\n",
    "Below, we define our .secure() method to take just the one required argument, self. We access both the class variable self.secure_prefix and the instance variable self.url to return a secure URL."
   ]
  },
  {
   "cell_type": "code",
   "execution_count": 5,
   "metadata": {},
   "outputs": [
    {
     "name": "stdout",
     "output_type": "stream",
     "text": [
      "https://www.codecademy.com\n",
      "https://www.wikipedia.org\n"
     ]
    }
   ],
   "source": [
    "class SearchEngineEntry:\n",
    "  secure_prefix = \"https://\"\n",
    "  def __init__(self, url):\n",
    "    self.url = url\n",
    "\n",
    "  def secure(self):\n",
    "    return \"{prefix}{site}\".format(prefix=self.secure_prefix, site=self.url)\n",
    "\n",
    "codecademy = SearchEngineEntry(\"www.codecademy.com\")\n",
    "wikipedia = SearchEngineEntry(\"www.wikipedia.org\")\n",
    "\n",
    "print(codecademy.secure())\n",
    "# prints \"https://www.codecademy.com\"\n",
    "\n",
    "print(wikipedia.secure())\n",
    "# prints \"https://www.wikipedia.org\""
   ]
  },
  {
   "attachments": {},
   "cell_type": "markdown",
   "metadata": {},
   "source": [
    "## Everything is an object\n",
    "\n",
    "Python automatically adds a number of attributes to all objects that get created. These internal attributes are usually indicated by double-underscores. \n",
    "\n"
   ]
  },
  {
   "cell_type": "code",
   "execution_count": 6,
   "metadata": {},
   "outputs": [
    {
     "data": {
      "text/plain": [
       "['__class__',\n",
       " '__delattr__',\n",
       " '__dict__',\n",
       " '__dir__',\n",
       " '__doc__',\n",
       " '__eq__',\n",
       " '__format__',\n",
       " '__ge__',\n",
       " '__getattribute__',\n",
       " '__gt__',\n",
       " '__hash__',\n",
       " '__init__',\n",
       " '__init_subclass__',\n",
       " '__le__',\n",
       " '__lt__',\n",
       " '__module__',\n",
       " '__ne__',\n",
       " '__new__',\n",
       " '__reduce__',\n",
       " '__reduce_ex__',\n",
       " '__repr__',\n",
       " '__setattr__',\n",
       " '__sizeof__',\n",
       " '__str__',\n",
       " '__subclasshook__',\n",
       " '__weakref__',\n",
       " 'attribute']"
      ]
     },
     "metadata": {},
     "output_type": "display_data"
    }
   ],
   "source": [
    "class FakeDict:\n",
    "  pass\n",
    "\n",
    "fake_dict = FakeDict()\n",
    "fake_dict.attribute = \"Cool\"\n",
    "\n",
    "display(dir(fake_dict))"
   ]
  },
  {
   "attachments": {},
   "cell_type": "markdown",
   "metadata": {},
   "source": [
    "Python's native datatypes are all objects to. \n",
    "\n",
    "Classes: int, float, str, list, and dict. \n",
    "\n",
    "These Python classes have special syntax for their instantiation, 1, 1.0, \"hello\", [], and {}\n",
    "\n",
    "These instances are still full-blown objects to Python.\n",
    "\n",
    "Notice how the user has access to all the attributes of the list object below. Like 'insert' and 'count'"
   ]
  },
  {
   "cell_type": "code",
   "execution_count": 7,
   "metadata": {},
   "outputs": [
    {
     "name": "stdout",
     "output_type": "stream",
     "text": [
      "['__add__', '__class__', '__class_getitem__', '__contains__', '__delattr__', '__delitem__', '__dir__', '__doc__', '__eq__', '__format__', '__ge__', '__getattribute__', '__getitem__', '__gt__', '__hash__', '__iadd__', '__imul__', '__init__', '__init_subclass__', '__iter__', '__le__', '__len__', '__lt__', '__mul__', '__ne__', '__new__', '__reduce__', '__reduce_ex__', '__repr__', '__reversed__', '__rmul__', '__setattr__', '__setitem__', '__sizeof__', '__str__', '__subclasshook__', 'append', 'clear', 'copy', 'count', 'extend', 'index', 'insert', 'pop', 'remove', 'reverse', 'sort']\n"
     ]
    }
   ],
   "source": [
    "fun_list = [10, \"string\", {'abc': True}]\n",
    "\n",
    "type(fun_list)\n",
    "\n",
    "print(dir(fun_list))"
   ]
  },
  {
   "attachments": {},
   "cell_type": "markdown",
   "metadata": {},
   "source": [
    "## __repr__ Dunder method\n",
    "\n",
    "method we can use to tell Python what we want the string representation of the class to be\n"
   ]
  },
  {
   "cell_type": "code",
   "execution_count": 8,
   "metadata": {},
   "outputs": [
    {
     "name": "stdout",
     "output_type": "stream",
     "text": [
      "Argus Filch\n"
     ]
    }
   ],
   "source": [
    "class Employee():\n",
    "  def __init__(self, name):\n",
    "    self.name = name\n",
    "\n",
    "  def __repr__(self):\n",
    "    return self.name\n",
    "\n",
    "argus = Employee(\"Argus Filch\")\n",
    "print(argus)"
   ]
  },
  {
   "cell_type": "code",
   "execution_count": 29,
   "metadata": {},
   "outputs": [
    {
     "name": "stdout",
     "output_type": "stream",
     "text": [
      "Your score of 100 is a pass!\n",
      "100.0\n",
      "8\n",
      "{12122012: True}\n"
     ]
    }
   ],
   "source": [
    "import datetime\n",
    "\n",
    "class Student:\n",
    "  def __init__(self, name, year):\n",
    "    self.name = name\n",
    "    self.year = year\n",
    "    self.grades = []\n",
    "    self.attendance = {}\n",
    "  \n",
    "  def add_grade(self, grade):\n",
    "    if type(grade) is Grade:\n",
    "      self.grades.append(grade)\n",
    "    else:\n",
    "      pass\n",
    "  \n",
    "  def get_average(self):\n",
    "    return sum(grade.score for grade in self.grades) / len(self.grades)\n",
    "  \n",
    "  def attended_school(self, date, inOrOut):\n",
    "    self.attendance[date] = bool(inOrOut)\n",
    "  \n",
    "\n",
    "roger = Student(\"Roger van der Weyden\", 10)\n",
    "sandro = Student(\"Sandro Botticelli\", 12)\n",
    "pieter = Student(\"Pieter Bruegel the Elder\", 8)\n",
    "\n",
    "class Grade:\n",
    "  minimum_passing = 65\n",
    "\n",
    "  def __init__(self, score):\n",
    "    self.score = score\n",
    "  \n",
    "  # Write a Grade method .is_passing() that returns whether a Grade has a passing .score.\n",
    "  def is_passing(self):\n",
    "    if self.score >= self.minimum_passing:\n",
    "      return f'Your score of {self.score} is a pass!'\n",
    "    else:\n",
    "      return 'You fail!'\n",
    "      \n",
    "\n",
    "\n",
    "# Create a new Grade with a score of 100 and add it to pieter‘s .grades attribute using .add_grade().\n",
    "pieter.add_grade(Grade(100))\n",
    "\n",
    "# Write a Grade method .is_passing() that returns whether a Grade has a passing .score.\n",
    "for grade in pieter.grades:\n",
    "  print(grade.is_passing())\n",
    "\n",
    "# Write a Student method .get_average() that returns the student’s average score.\n",
    "\n",
    "print(pieter.get_average())\n",
    "print(pieter.year)\n",
    "try:\n",
    "  pieter.attended_school(12122012, True)\n",
    "except:\n",
    "  print(\"enter in format DDMMYYYY and True or False\")\n",
    "\n",
    "print(pieter.attendance)\n",
    "# print(pieter.get_average())\n",
    "\n"
   ]
  },
  {
   "cell_type": "code",
   "execution_count": null,
   "metadata": {},
   "outputs": [],
   "source": []
  }
 ],
 "metadata": {
  "kernelspec": {
   "display_name": "base",
   "language": "python",
   "name": "python3"
  },
  "language_info": {
   "codemirror_mode": {
    "name": "ipython",
    "version": 3
   },
   "file_extension": ".py",
   "mimetype": "text/x-python",
   "name": "python",
   "nbconvert_exporter": "python",
   "pygments_lexer": "ipython3",
   "version": "3.10.9"
  },
  "orig_nbformat": 4
 },
 "nbformat": 4,
 "nbformat_minor": 2
}
