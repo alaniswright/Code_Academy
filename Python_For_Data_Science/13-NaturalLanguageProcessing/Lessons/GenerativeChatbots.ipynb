{
 "cells": [
  {
   "cell_type": "code",
   "execution_count": 4,
   "metadata": {},
   "outputs": [
    {
     "name": "stdout",
     "output_type": "stream",
     "text": [
      "Using pip from c:\\Users\\alan_\\AppData\\Local\\Programs\\Python\\Python311\\python.exe\n"
     ]
    },
    {
     "name": "stderr",
     "output_type": "stream",
     "text": [
      "'python3.11' is not recognized as an internal or external command,\n",
      "operable program or batch file.\n"
     ]
    }
   ],
   "source": [
    "import sys\n",
    "\n",
    "# Get the path to the Python executable for the current kernel\n",
    "python_executable = sys.executable\n",
    "\n",
    "# Install the package using the specific kernel's pip\n",
    "print(f\"Using pip from {python_executable}\")\n",
    "python_executable + \" -m pip install package_name\"\n",
    "\n",
    "!python3.11 -m venv venv\n"
   ]
  }
 ],
 "metadata": {
  "kernelspec": {
   "display_name": "Python 3",
   "language": "python",
   "name": "python3"
  },
  "language_info": {
   "codemirror_mode": {
    "name": "ipython",
    "version": 3
   },
   "file_extension": ".py",
   "mimetype": "text/x-python",
   "name": "python",
   "nbconvert_exporter": "python",
   "pygments_lexer": "ipython3",
   "version": "3.11.7"
  }
 },
 "nbformat": 4,
 "nbformat_minor": 2
}
