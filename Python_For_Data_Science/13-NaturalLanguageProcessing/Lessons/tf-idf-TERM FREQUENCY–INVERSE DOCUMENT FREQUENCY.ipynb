{
 "cells": [
  {
   "attachments": {
    "image.png": {
     "image/png": "[encoded data removed]"
    }
   },
   "cell_type": "markdown",
   "metadata": {},
   "source": [
    "# Tf-idf - TERM FREQUENCY–INVERSE DOCUMENT FREQUENCY\n",
    "\n",
    "Term frequency-inverse document frequency is a numerical statistic used to indicate how important a word is to each document in a collection of documents, or a corpus.\n",
    "\n",
    "When applying tf-idf to a corpus, each word is given a tf-idf score for each document, representing the relevance of that word to the particular document. A higher tf-idf score indicates a term is more important to the corresponding document.\n",
    "\n",
    "Tf-idf relies on two different metrics in order to come up with an overall score:\n",
    "\n",
    "- term frequency, or how often a word appears in a document. This is the same as bag-of-words’ word count.\n",
    "- inverse document frequency, which is a measure of how often a word appears in the overall corpus. By penalizing the score of words that appear throughout a corpus, tf-idf can give better insight into how important a word is to a particular document of a corpus.\n",
    "\n",
    "See example term document matrix below\n",
    "\n",
    "![image.png](attachment:image.png)\n",
    "\n",
    "## Frequency\n",
    "\n",
    "Term frequency indicates how often each workl appears in the document.  Term frequency can be calculated in Python using scikit-learn’s CountVectorizer, as shown below:\n",
    "\n",
    "- A CountVectorizer object is initialized\n",
    "- The CountVectorizer object is fit (trained) and transformed (applied) on the corpus of data, returning the term frequencies for each term-document pair"
   ]
  },
  {
   "cell_type": "code",
   "execution_count": 1,
   "metadata": {},
   "outputs": [],
   "source": [
    "from sklearn.feature_extraction.text import CountVectorizer\n",
    "import pandas as pd\n",
    "\n",
    "stanza = '''I'm nobody! Who are you?\n",
    "Are you nobody, too?\n",
    "Then there's a pair of us — don't tell!\n",
    "They'd banish us, you know.'''\n",
    "\n",
    "\n",
    "vectorizer = CountVectorizer()\n",
    "\n",
    "term_frequencies = vectorizer.fit_transform([stanza])"
   ]
  },
  {
   "cell_type": "markdown",
   "metadata": {},
   "source": [
    "## Inverse document frequency\n",
    "\n",
    "The inverse document frequency component of the tf-idf score penalizes terms that appear more frequently across a corpus. The intuition is that words that appear more frequently in the corpus give less insight into the topic or meaning of an individual document, and should thus be deprioritized.\n",
    "\n",
    "Inverse document frequency can be calculated on a group of documents using scikit-learn’s TfidfTransformer:\n",
    "\n",
    "- a TfidfTransformer object is initialized. Don’t worry about the norm=None keyword argument for now, we will dig into this in the next exercise\n",
    "- the TfidfTransformer is fit (trained) on a term-document matrix of term frequencies\n",
    "- the .idf_ attribute of the TfidfTransformer stores the inverse document frequencies of the terms as a NumPy array"
   ]
  },
  {
   "cell_type": "code",
   "execution_count": 2,
   "metadata": {},
   "outputs": [],
   "source": [
    "from sklearn.feature_extraction.text import TfidfTransformer\n",
    "\n",
    "transformer = TfidfTransformer(norm=None)\n",
    "transformer.fit(term_frequencies)\n",
    "inverse_doc_frequency = transformer.idf_"
   ]
  },
  {
   "cell_type": "markdown",
   "metadata": {},
   "source": [
    "## preprocessing file needed to make this work"
   ]
  },
  {
   "cell_type": "code",
   "execution_count": 3,
   "metadata": {},
   "outputs": [],
   "source": [
    "import nltk, re\n",
    "from nltk.corpus import wordnet\n",
    "from nltk.corpus import stopwords\n",
    "from nltk.tokenize import word_tokenize\n",
    "from nltk.stem import WordNetLemmatizer\n",
    "from collections import Counter\n",
    "\n",
    "stop_words = stopwords.words('english')\n",
    "normalizer = WordNetLemmatizer()\n",
    "\n",
    "def get_part_of_speech(word):\n",
    "  probable_part_of_speech = wordnet.synsets(word)\n",
    "  pos_counts = Counter()\n",
    "  pos_counts[\"n\"] = len(  [ item for item in probable_part_of_speech if item.pos()==\"n\"]  )\n",
    "  pos_counts[\"v\"] = len(  [ item for item in probable_part_of_speech if item.pos()==\"v\"]  )\n",
    "  pos_counts[\"a\"] = len(  [ item for item in probable_part_of_speech if item.pos()==\"a\"]  )\n",
    "  pos_counts[\"r\"] = len(  [ item for item in probable_part_of_speech if item.pos()==\"r\"]  )\n",
    "  most_likely_part_of_speech = pos_counts.most_common(1)[0][0]\n",
    "  return most_likely_part_of_speech\n",
    "\n",
    "def preprocess_text(text):\n",
    "  cleaned = re.sub(r'\\W+', ' ', text).lower()\n",
    "  tokenized = word_tokenize(cleaned)\n",
    "  normalized = \" \".join([normalizer.lemmatize(token, get_part_of_speech(token)) for token in tokenized])\n",
    "  return normalized\n",
    "\n",
    "poem_1 = '''\n",
    "Success is counted sweetest\n",
    "By those who ne'er succeed.\n",
    "To comprehend a nectar\n",
    "Requires sorest need.\n",
    "\n",
    "Not one of all the purple host\n",
    "Who took the flag to-day\n",
    "Can tell the definition,\n",
    "So clear, of victory,\n",
    "\n",
    "As he, defeated, dying,\n",
    "On whose forbidden ear\n",
    "The distant strains of triumph\n",
    "Break, agonized and clear!'''\n",
    "\n",
    "poem_2 = '''\n",
    "Wild nights! Wild nights!\n",
    "Were I with thee,\n",
    "Wild nights should be\n",
    "Our luxury!\n",
    "\n",
    "Futile the winds\n",
    "To a heart in port, —\n",
    "Done with the compass,\n",
    "Done with the chart.\n",
    "\n",
    "Rowing in Eden!\n",
    "Ah! the sea!\n",
    "Might I but moor\n",
    "To-night in thee!'''\n",
    "\n",
    "poem_3 = '''\n",
    "I'm nobody! Who are you?\n",
    "Are you nobody, too?\n",
    "Then there 's a pair of us — don't tell!\n",
    "They 'd banish us, you know.\n",
    "\n",
    "How dreary to be somebody!\n",
    "How public, like a frog\n",
    "To tell your name the livelong day\n",
    "To an admiring bog!'''\n",
    "\n",
    "poem_4 = '''\n",
    "I felt a funeral in my brain,\n",
    "   And mourners, to and fro,\n",
    "Kept treading, treading, till it seemed\n",
    "   That sense was breaking through.\n",
    "\n",
    "And when they all were seated,\n",
    "   A service like a drum\n",
    "Kept beating, beating, till I thought\n",
    "   My mind was going numb.\n",
    "\n",
    "And then I heard them lift a box,\n",
    "   And creak across my soul\n",
    "With those same boots of lead, again.\n",
    "   Then space began to toll\n",
    "\n",
    "As all the heavens were a bell,\n",
    "   And Being but an ear,\n",
    "And I and silence some strange race,\n",
    "   Wrecked, solitary, here.'''\n",
    "\n",
    "poem_5 = '''\n",
    "Hope is the thing with feathers\n",
    "That perches in the soul,\n",
    "And sings the tune without the words,\n",
    "And never stops at all,\n",
    "\n",
    "And sweetest in the gale is heard;\n",
    "And sore must be the storm\n",
    "That could abash the little bird\n",
    "That kept so many warm.\n",
    "\n",
    "I 've heard it in the chillest land,\n",
    "And on the strangest sea;\n",
    "Yet, never, in extremity,\n",
    "It asked a crumb of me.'''\n",
    "\n",
    "poem_6 = '''\n",
    "The pedigree of honey\n",
    "Does not concern the bee;\n",
    "A clover, any time, to him\n",
    "Is aristocracy.'''\n",
    "\n",
    "poems = [poem_1, poem_2, poem_3, poem_4, poem_5, poem_6]"
   ]
  },
  {
   "cell_type": "markdown",
   "metadata": {},
   "source": [
    "# Using skicki"
   ]
  },
  {
   "cell_type": "code",
   "execution_count": 4,
   "metadata": {},
   "outputs": [
    {
     "name": "stdout",
     "output_type": "stream",
     "text": [
      "           Poem 1  Poem 2    Poem 3    Poem 4    Poem 5  Poem 6\n",
      "abash    0.000000     0.0  0.000000  0.000000  2.252763     0.0\n",
      "across   0.000000     0.0  0.000000  2.252763  0.000000     0.0\n",
      "admire   0.000000     0.0  2.252763  0.000000  0.000000     0.0\n",
      "again    0.000000     0.0  0.000000  2.252763  0.000000     0.0\n",
      "agonize  2.252763     0.0  0.000000  0.000000  0.000000     0.0\n",
      "...           ...     ...       ...       ...       ...     ...\n",
      "word     0.000000     0.0  0.000000  0.000000  2.252763     0.0\n",
      "wreck    0.000000     0.0  0.000000  2.252763  0.000000     0.0\n",
      "yet      0.000000     0.0  0.000000  0.000000  2.252763     0.0\n",
      "you      0.000000     0.0  6.758289  0.000000  0.000000     0.0\n",
      "your     0.000000     0.0  2.252763  0.000000  0.000000     0.0\n",
      "\n",
      "[173 rows x 6 columns]\n"
     ]
    }
   ],
   "source": [
    "import pandas as pd\n",
    "from sklearn.feature_extraction.text import TfidfVectorizer\n",
    "\n",
    "# preprocess documents\n",
    "processed_poems = [preprocess_text(poem) for poem in poems]\n",
    "\n",
    "# initialize and fit TfidfVectorizer\n",
    "# a TfidfVectorizer object is initialized. The norm=None keyword argument prevents scikit-learn from modifying the multiplication of term frequency and inverse document frequency\n",
    "vectorizer = TfidfVectorizer(norm=None)\n",
    "\n",
    "# the TfidfVectorizer object is fit and transformed on the corpus of data, returning the tf-idf scores for each term-document pair\n",
    "tfidf_scores = vectorizer.fit_transform(processed_poems)\n",
    "\n",
    "\n",
    "# get vocabulary of terms\n",
    "feature_names = vectorizer.get_feature_names_out()\n",
    "\n",
    "# get corpus index\n",
    "corpus_index = [f\"Poem {i+1}\" for i in range(len(poems))]\n",
    "\n",
    "# create pandas DataFrame with tf-idf scores\n",
    "try:\n",
    "  df_tf_idf = pd.DataFrame(tfidf_scores.T.todense(), index=feature_names, columns=corpus_index)\n",
    "  print(df_tf_idf)\n",
    "except:\n",
    "  pass"
   ]
  },
  {
   "cell_type": "markdown",
   "metadata": {},
   "source": [
    "## Convert bag of words to tf-idf"
   ]
  },
  {
   "cell_type": "code",
   "execution_count": 5,
   "metadata": {},
   "outputs": [
    {
     "ename": "NameError",
     "evalue": "name 'tfidf_transformer' is not defined",
     "output_type": "error",
     "traceback": [
      "\u001b[1;31m---------------------------------------------------------------------------\u001b[0m",
      "\u001b[1;31mNameError\u001b[0m                                 Traceback (most recent call last)",
      "\u001b[1;32mc:\\Users\\alan_\\Documents\\GitHub\\Code-Academy\\Python_For_Data_Science\\13-NaturalLanguageProcessing\\Lessons\\tf-idf-TERM FREQUENCY–INVERSE DOCUMENT FREQUENCY.ipynb Cell 10\u001b[0m line \u001b[0;36m5\n\u001b[0;32m      <a href='vscode-notebook-cell:/c%3A/Users/alan_/Documents/GitHub/Code-Academy/Python_For_Data_Science/13-NaturalLanguageProcessing/Lessons/tf-idf-TERM%20FREQUENCY%E2%80%93INVERSE%20DOCUMENT%20FREQUENCY.ipynb#X12sZmlsZQ%3D%3D?line=1'>2</a>\u001b[0m tf_idf_transformer \u001b[39m=\u001b[39m TfidfTransformer(norm\u001b[39m=\u001b[39m\u001b[39mFalse\u001b[39;00m)\n\u001b[0;32m      <a href='vscode-notebook-cell:/c%3A/Users/alan_/Documents/GitHub/Code-Academy/Python_For_Data_Science/13-NaturalLanguageProcessing/Lessons/tf-idf-TERM%20FREQUENCY%E2%80%93INVERSE%20DOCUMENT%20FREQUENCY.ipynb#X12sZmlsZQ%3D%3D?line=3'>4</a>\u001b[0m \u001b[39m# Given a bag-of-words matrix count_matrix, you can now multiply the term frequencies by their inverse document frequency to get the tf-idf scores as follows:\u001b[39;00m\n\u001b[1;32m----> <a href='vscode-notebook-cell:/c%3A/Users/alan_/Documents/GitHub/Code-Academy/Python_For_Data_Science/13-NaturalLanguageProcessing/Lessons/tf-idf-TERM%20FREQUENCY%E2%80%93INVERSE%20DOCUMENT%20FREQUENCY.ipynb#X12sZmlsZQ%3D%3D?line=4'>5</a>\u001b[0m tf_idf_scores \u001b[39m=\u001b[39m tfidf_transformer\u001b[39m.\u001b[39mfit_transform(count_matrix)\n",
      "\u001b[1;31mNameError\u001b[0m: name 'tfidf_transformer' is not defined"
     ]
    }
   ],
   "source": [
    "# Scikit-learn’s TfidfTransformer is up to the task of converting your bag-of-words model to tf-idf. You begin by initializing a TfidfTransformer object.\n",
    "tf_idf_transformer = TfidfTransformer(norm=False)\n",
    "\n",
    "# Given a bag-of-words matrix count_matrix, you can now multiply the term frequencies by their inverse document frequency to get the tf-idf scores as follows:\n",
    "tf_idf_scores = tfidf_transformer.fit_transform(count_matrix)\n"
   ]
  }
 ],
 "metadata": {
  "kernelspec": {
   "display_name": "Python 3",
   "language": "python",
   "name": "python3"
  },
  "language_info": {
   "codemirror_mode": {
    "name": "ipython",
    "version": 3
   },
   "file_extension": ".py",
   "mimetype": "text/x-python",
   "name": "python",
   "nbconvert_exporter": "python",
   "pygments_lexer": "ipython3",
   "version": "3.12.0"
  }
 },
 "nbformat": 4,
 "nbformat_minor": 2
}
