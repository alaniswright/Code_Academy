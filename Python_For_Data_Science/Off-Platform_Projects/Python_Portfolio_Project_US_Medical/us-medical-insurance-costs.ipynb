{
 "cells": [
  {
   "cell_type": "markdown",
   "metadata": {},
   "source": [
    "# U.S. Medical Insurance Costs"
   ]
  },
  {
   "cell_type": "markdown",
   "metadata": {},
   "source": [
    "# Goal: understand how children affect insurance cost\n",
    "\n"
   ]
  },
  {
   "cell_type": "code",
   "execution_count": 15,
   "metadata": {},
   "outputs": [
    {
     "name": "stdout",
     "output_type": "stream",
     "text": [
      "{0: 12365.975601635882, 1: 12731.171831635793, 2: 15073.563733958328, 3: 15355.31836681528, 4: 13850.656311199999}\n"
     ]
    }
   ],
   "source": [
    "import csv\n",
    "\n",
    "# Create two lists: one list of how many children in family, another of insurance costs\n",
    "with open('insurance.csv') as file:\n",
    "    insurance_dataset = csv.DictReader(file, delimiter=',')\n",
    "    children = []\n",
    "    charges = []\n",
    "    for row in insurance_dataset:\n",
    "        children.append(int(row['children']))\n",
    "        charges.append(float(row['charges']))\n",
    "\n",
    "insurance_by_children = {}        \n",
    "\n",
    "# Group all values by number of children in family, then work out average insurance costs for each group\n",
    "for m in range(0, max(children)): \n",
    "    temp_values = []\n",
    "    for child in range(0, len(children)):\n",
    "        if children[child] == m:\n",
    "            temp_values.append(charges[child])\n",
    "    insurance_by_children[m] = sum(temp_values) / len(temp_values)\n",
    "\n",
    "print(insurance_by_children)\n"
   ]
  },
  {
   "cell_type": "code",
   "execution_count": null,
   "metadata": {},
   "outputs": [],
   "source": []
  },
  {
   "cell_type": "code",
   "execution_count": null,
   "metadata": {},
   "outputs": [],
   "source": []
  }
 ],
 "metadata": {
  "kernelspec": {
   "display_name": "Python 3 (ipykernel)",
   "language": "python",
   "name": "python3"
  },
  "language_info": {
   "codemirror_mode": {
    "name": "ipython",
    "version": 3
   },
   "file_extension": ".py",
   "mimetype": "text/x-python",
   "name": "python",
   "nbconvert_exporter": "python",
   "pygments_lexer": "ipython3",
   "version": "3.9.12"
  }
 },
 "nbformat": 4,
 "nbformat_minor": 4
}
