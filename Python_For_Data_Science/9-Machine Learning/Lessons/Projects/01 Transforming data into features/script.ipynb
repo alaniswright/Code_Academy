{
 "cells": [
  {
   "cell_type": "code",
   "execution_count": 52,
   "metadata": {},
   "outputs": [
    {
     "name": "stdout",
     "output_type": "stream",
     "text": [
      "Index(['clothing_id', 'age', 'review_title', 'review_text', 'recommended',\n",
      "       'division_name', 'department_name', 'review_date', 'rating'],\n",
      "      dtype='object')\n",
      "<class 'pandas.core.frame.DataFrame'>\n",
      "RangeIndex: 5000 entries, 0 to 4999\n",
      "Data columns (total 9 columns):\n",
      " #   Column           Non-Null Count  Dtype \n",
      "---  ------           --------------  ----- \n",
      " 0   clothing_id      5000 non-null   int64 \n",
      " 1   age              5000 non-null   int64 \n",
      " 2   review_title     4174 non-null   object\n",
      " 3   review_text      4804 non-null   object\n",
      " 4   recommended      5000 non-null   bool  \n",
      " 5   division_name    4996 non-null   object\n",
      " 6   department_name  4996 non-null   object\n",
      " 7   review_date      5000 non-null   object\n",
      " 8   rating           5000 non-null   object\n",
      "dtypes: bool(1), int64(2), object(6)\n",
      "memory usage: 317.5+ KB\n",
      "None\n"
     ]
    }
   ],
   "source": [
    "import pandas as pd\n",
    "import numpy as np\n",
    "from sklearn.preprocessing import StandardScaler\n",
    "\n",
    "reviews = pd.read_csv('reviews.csv')\n",
    "\n",
    "print(reviews.columns)\n",
    "print(reviews.info())"
   ]
  },
  {
   "cell_type": "markdown",
   "metadata": {},
   "source": [
    "Transform the recommended column into binary"
   ]
  },
  {
   "cell_type": "code",
   "execution_count": 53,
   "metadata": {},
   "outputs": [
    {
     "name": "stdout",
     "output_type": "stream",
     "text": [
      "recommended\n",
      "True     4166\n",
      "False     834\n",
      "Name: count, dtype: int64\n",
      "recommended\n",
      "1    4166\n",
      "0     834\n",
      "Name: count, dtype: int64\n"
     ]
    }
   ],
   "source": [
    "print(reviews.recommended.value_counts())\n",
    "\n",
    "binary_dict = {True:1, False:0}\n",
    "\n",
    "reviews['recommended'] = reviews['recommended'].map(binary_dict)\n",
    "\n",
    "print(reviews.recommended.value_counts())\n"
   ]
  },
  {
   "cell_type": "markdown",
   "metadata": {},
   "source": [
    "Transform the rating feature into numerical scores"
   ]
  },
  {
   "cell_type": "code",
   "execution_count": 54,
   "metadata": {},
   "outputs": [
    {
     "name": "stdout",
     "output_type": "stream",
     "text": [
      "rating\n",
      "Loved it     2798\n",
      "Liked it     1141\n",
      "Was okay      564\n",
      "Not great     304\n",
      "Hated it      193\n",
      "Name: count, dtype: int64\n",
      "rating\n",
      "5    2798\n",
      "4    1141\n",
      "3     564\n",
      "2     304\n",
      "1     193\n",
      "Name: count, dtype: int64\n"
     ]
    }
   ],
   "source": [
    "print(reviews.rating.value_counts())\n",
    "\n",
    "rating_dict = {'Loved it':5, 'Liked it':4, 'Was okay':3, 'Not great':2, 'Hated it':1}\n",
    "\n",
    "reviews['rating'] = reviews['rating'].map(rating_dict)\n",
    "\n",
    "print(reviews.rating.value_counts())\n"
   ]
  },
  {
   "cell_type": "markdown",
   "metadata": {},
   "source": [
    "Transform the department_name feature\n",
    "\n",
    "One hot encode the values of department name to individual boolean values\n",
    "\n",
    "Join these to the reviews table"
   ]
  },
  {
   "cell_type": "code",
   "execution_count": 55,
   "metadata": {},
   "outputs": [
    {
     "name": "stdout",
     "output_type": "stream",
     "text": [
      "department_name\n",
      "Tops        2196\n",
      "Dresses     1322\n",
      "Bottoms      848\n",
      "Intimate     378\n",
      "Jackets      224\n",
      "Trend         28\n",
      "Name: count, dtype: int64\n",
      "      Bottoms  Dresses  Intimate  Jackets   Tops  Trend\n",
      "0       False     True     False    False  False  False\n",
      "1       False     True     False    False  False  False\n",
      "2       False    False      True    False  False  False\n",
      "3       False     True     False    False  False  False\n",
      "4       False     True     False    False  False  False\n",
      "...       ...      ...       ...      ...    ...    ...\n",
      "4995    False    False     False    False   True  False\n",
      "4996    False    False     False    False   True  False\n",
      "4997    False     True     False    False  False  False\n",
      "4998     True    False     False    False  False  False\n",
      "4999    False    False     False    False   True  False\n",
      "\n",
      "[5000 rows x 6 columns]\n",
      "Index(['clothing_id', 'age', 'review_title', 'review_text', 'recommended',\n",
      "       'division_name', 'department_name', 'review_date', 'rating'],\n",
      "      dtype='object')\n",
      "Index(['clothing_id', 'age', 'review_title', 'review_text', 'recommended',\n",
      "       'division_name', 'department_name', 'review_date', 'rating', 'Bottoms',\n",
      "       'Dresses', 'Intimate', 'Jackets', 'Tops', 'Trend'],\n",
      "      dtype='object')\n"
     ]
    }
   ],
   "source": [
    "print(reviews.department_name.value_counts())\n",
    "\n",
    "one_hot = pd.get_dummies(reviews['department_name'])\n",
    "\n",
    "print(one_hot)\n",
    "\n",
    "print(reviews.columns)\n",
    "\n",
    "reviews = reviews.join(one_hot)\n",
    "\n",
    "print(reviews.columns)"
   ]
  },
  {
   "cell_type": "markdown",
   "metadata": {},
   "source": [
    "Transform the review data feature"
   ]
  },
  {
   "cell_type": "code",
   "execution_count": 56,
   "metadata": {},
   "outputs": [
    {
     "name": "stdout",
     "output_type": "stream",
     "text": [
      "object\n",
      "datetime64[ns]\n"
     ]
    }
   ],
   "source": [
    "print(reviews.review_date.dtype)\n",
    "\n",
    "reviews['review_date'] = pd.to_datetime(reviews['review_date'])\n",
    "\n",
    "print(reviews.review_date.dtype)"
   ]
  },
  {
   "cell_type": "code",
   "execution_count": 57,
   "metadata": {},
   "outputs": [
    {
     "name": "stdout",
     "output_type": "stream",
     "text": [
      "             recommended  rating  Bottoms  Dresses  Intimate  Jackets   Tops  \\\n",
      "clothing_id                                                                    \n",
      "1095                   1       4    False     True     False    False  False   \n",
      "1095                   1       5    False     True     False    False  False   \n",
      "699                    1       5    False    False      True    False  False   \n",
      "1072                   1       5    False     True     False    False  False   \n",
      "1094                   1       5    False     True     False    False  False   \n",
      "...                  ...     ...      ...      ...       ...      ...    ...   \n",
      "918                    1       5    False    False     False    False   True   \n",
      "950                    0       1    False    False     False    False   True   \n",
      "1086                   1       5    False     True     False    False  False   \n",
      "1033                   1       5     True    False     False    False  False   \n",
      "850                    1       5    False    False     False    False   True   \n",
      "\n",
      "             Trend  \n",
      "clothing_id         \n",
      "1095         False  \n",
      "1095         False  \n",
      "699          False  \n",
      "1072         False  \n",
      "1094         False  \n",
      "...            ...  \n",
      "918          False  \n",
      "950          False  \n",
      "1086         False  \n",
      "1033         False  \n",
      "850          False  \n",
      "\n",
      "[5000 rows x 8 columns]\n"
     ]
    }
   ],
   "source": [
    "scaled_reviews_dataframe = reviews[['clothing_id', 'recommended', 'rating', 'Bottoms', 'Dresses', 'Intimate', 'Jackets', 'Tops', 'Trend']]\n",
    "\n",
    "scaled_reviews_dataframe = scaled_reviews_dataframe.set_index('clothing_id')\n",
    "\n",
    "print(scaled_reviews_dataframe)"
   ]
  },
  {
   "cell_type": "markdown",
   "metadata": {},
   "source": [
    "Fit the data\n",
    "\n",
    "The fit_transform() method is used to fit the data into a model and transform it into a form that is more suitable for the model in a single step\n",
    "\n",
    "Data standardization is the process of rescaling the attributes so that they have mean as 0 and variance as 1."
   ]
  },
  {
   "cell_type": "code",
   "execution_count": 61,
   "metadata": {},
   "outputs": [
    {
     "name": "stdout",
     "output_type": "stream",
     "text": [
      "Mean is 1:  3.739231146937527e-17\n",
      "Std dev is 1:  1.0\n"
     ]
    }
   ],
   "source": [
    "scaler = StandardScaler()\n",
    "scaled_values = scaler.fit_transform(scaled_reviews_dataframe)\n",
    "\n",
    "print(\"Mean is 1: \", np.mean(scaled_values))\n",
    "print(\"Std dev is 1: \", np.std(scaled_values))"
   ]
  }
 ],
 "metadata": {
  "kernelspec": {
   "display_name": "Python 3",
   "language": "python",
   "name": "python3"
  },
  "language_info": {
   "codemirror_mode": {
    "name": "ipython",
    "version": 3
   },
   "file_extension": ".py",
   "mimetype": "text/x-python",
   "name": "python",
   "nbconvert_exporter": "python",
   "pygments_lexer": "ipython3",
   "version": "3.12.0"
  }
 },
 "nbformat": 4,
 "nbformat_minor": 2
}
